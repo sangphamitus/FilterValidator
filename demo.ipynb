{
 "cells": [
  {
   "cell_type": "code",
   "execution_count": 3,
   "metadata": {},
   "outputs": [],
   "source": [
    "import torch\n",
    "\n",
    "H, W =  (375, 1242)\n",
    "bboxes = [[    0.634461,\n",
    "          0.493333,\n",
    "          0.354267,\n",
    "          0.506667],\n",
    "          [   0.578905,\n",
    "          0.488,\n",
    "          0.099034,\n",
    "          0.242667]\n",
    "          ]\n",
    "bbs=[]\n",
    "for i in bboxes:\n",
    "    x, y, w, h = i\n",
    "    bbs.append([ x * W, y * H, (x + w) * W, (y + h) * H])\n",
    "tensor_bbs = torch.tensor(bbs)"
   ]
  },
  {
   "cell_type": "code",
   "execution_count": 4,
   "metadata": {},
   "outputs": [
    {
     "name": "stdout",
     "output_type": "stream",
     "text": [
      "Image saved at: picture_2024_05_14__21_43_34.jpg\n"
     ]
    },
    {
     "data": {
      "text/plain": [
       "tensor([[ 788.0005,  184.9999, 1228.0001,  375.0000],\n",
       "        [ 719.0000,  183.0000,  842.0002,  274.0001]])"
      ]
     },
     "execution_count": 4,
     "metadata": {},
     "output_type": "execute_result"
    }
   ],
   "source": [
    "from visualization import Visualizer\n",
    "import PIL\n",
    "\n",
    "frame_path=\"C:\\\\Users\\\\phamp\\\\Desktop\\\\Converter\\\\FilterValidator\\\\000000.png\"\n",
    "sentence = \"The quick brown fox jumps over the lazy dog.\"\n",
    "frame = PIL.Image.open(frame_path)\n",
    "Visualizer=Visualizer(save_dir=\"C:\\\\Users\\\\phamp\\\\Desktop\\\\Converter\\\\FilterValidator\",device=torch.device(\"cpu\"))\n",
    "Visualizer(frame=frame,sentence=sentence,bboxes=tensor_bbs)"
   ]
  }
 ],
 "metadata": {
  "kernelspec": {
   "display_name": "Python 3",
   "language": "python",
   "name": "python3"
  },
  "language_info": {
   "codemirror_mode": {
    "name": "ipython",
    "version": 3
   },
   "file_extension": ".py",
   "mimetype": "text/x-python",
   "name": "python",
   "nbconvert_exporter": "python",
   "pygments_lexer": "ipython3",
   "version": "3.10.13"
  }
 },
 "nbformat": 4,
 "nbformat_minor": 2
}
